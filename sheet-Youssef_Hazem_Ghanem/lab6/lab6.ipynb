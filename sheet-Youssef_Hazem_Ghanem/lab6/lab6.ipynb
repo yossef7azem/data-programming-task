{
 "cells": [
  {
   "cell_type": "markdown",
   "id": "eeccd8c4",
   "metadata": {},
   "source": [
    "# first question "
   ]
  },
  {
   "cell_type": "markdown",
   "id": "44f399bc",
   "metadata": {},
   "source": [
    "a) The output is \"The value of pi = 3.14.\"\n",
    "\n",
    "b) The output is \"pi = 22/7 = 3.143.\"\n",
    "\n",
    "c)Invalid syntax"
   ]
  },
  {
   "cell_type": "code",
   "execution_count": 6,
   "id": "af622bb1",
   "metadata": {},
   "outputs": [
    {
     "name": "stdout",
     "output_type": "stream",
     "text": [
      "The value of pi = 3.14\n",
      "pi = 22/7 = 3.142\n"
     ]
    },
    {
     "ename": "TypeError",
     "evalue": "not enough arguments for format string",
     "output_type": "error",
     "traceback": [
      "\u001b[1;31m---------------------------------------------------------------------------\u001b[0m",
      "\u001b[1;31mTypeError\u001b[0m                                 Traceback (most recent call last)",
      "Input \u001b[1;32mIn [6]\u001b[0m, in \u001b[0;36m<cell line: 5>\u001b[1;34m()\u001b[0m\n\u001b[0;32m      3\u001b[0m \u001b[38;5;28mprint\u001b[39m(\u001b[38;5;124m'\u001b[39m\u001b[38;5;124mpi = 22/7 = \u001b[39m\u001b[38;5;132;01m%4.3f\u001b[39;00m\u001b[38;5;124m'\u001b[39m  \u001b[38;5;241m%\u001b[39mmath\u001b[38;5;241m.\u001b[39mpi)\n\u001b[0;32m      4\u001b[0m x\u001b[38;5;241m=\u001b[39m \u001b[38;5;241m20\u001b[39m\u001b[38;5;241m/\u001b[39m\u001b[38;5;241m5\u001b[39m\n\u001b[1;32m----> 5\u001b[0m \u001b[38;5;28mprint\u001b[39m(\u001b[38;5;124;43m'\u001b[39;49m\u001b[38;5;124;43m20/5 =\u001b[39;49m\u001b[38;5;132;43;01m%d\u001b[39;49;00m\u001b[38;5;124;43m= \u001b[39;49m\u001b[38;5;132;43;01m%4.2f\u001b[39;49;00m\u001b[38;5;124;43m'\u001b[39;49m\u001b[43m  \u001b[49m\u001b[38;5;241;43m%\u001b[39;49m\u001b[43mx\u001b[49m)\n",
      "\u001b[1;31mTypeError\u001b[0m: not enough arguments for format string"
     ]
    }
   ],
   "source": [
    "import math\n",
    "print('The value of pi = %4.2f' %math.pi)\n",
    "print('pi = 22/7 = %4.3f'  %math.pi)\n",
    "x= 20/5\n",
    "print('20/5 =%d= %4.2f'  %x)"
   ]
  },
  {
   "cell_type": "markdown",
   "id": "16a83f16",
   "metadata": {},
   "source": [
    "# second question "
   ]
  },
  {
   "cell_type": "code",
   "execution_count": 8,
   "id": "1ecbdfc9",
   "metadata": {},
   "outputs": [
    {
     "name": "stdout",
     "output_type": "stream",
     "text": [
      "998\n",
      "999\n",
      "1000\n",
      "1001\n"
     ]
    }
   ],
   "source": [
    "for i in range(998, 1002):\n",
    "    print(i)\n"
   ]
  },
  {
   "cell_type": "markdown",
   "id": "40bc107f",
   "metadata": {},
   "source": [
    "# third question "
   ]
  },
  {
   "cell_type": "code",
   "execution_count": 10,
   "id": "f03f85ca",
   "metadata": {},
   "outputs": [
    {
     "name": "stdout",
     "output_type": "stream",
     "text": [
      "3.863\t3.86\t3.9\n",
      "4\t3\n"
     ]
    }
   ],
   "source": [
    "a = 3.863\n",
    "print(\"%.3f\\t%.2f\\t%.1f\\n%.0f\\t%d\" %(a,a,a,a,a))\n"
   ]
  },
  {
   "cell_type": "markdown",
   "id": "4c7724cc",
   "metadata": {},
   "source": [
    "AS WE SEE\n",
    "The difference between \"%.0f\" and \"%d\" is in the formatting:\n",
    "\n",
    "\"%.0f\" formats the floating point number with 0 decimal places, effectively rounding it to the nearest integer.\n",
    "\n",
    "\n",
    "\"%d\" is used to format integers directly."
   ]
  },
  {
   "cell_type": "markdown",
   "id": "67d0c9cd",
   "metadata": {},
   "source": [
    "# fourth question "
   ]
  },
  {
   "cell_type": "code",
   "execution_count": 11,
   "id": "d10d932c",
   "metadata": {},
   "outputs": [
    {
     "name": "stdout",
     "output_type": "stream",
     "text": [
      "My name is Ahmed\n",
      "Friends call me \"Mido :)\"\n",
      "I don't like apples\\bananas\\peaches\n"
     ]
    }
   ],
   "source": [
    "print(\"My name is Ahmed\\nFriends call me \\\"Mido :)\\\"\\nI don't like apples\\\\bananas\\\\peaches\")"
   ]
  },
  {
   "cell_type": "markdown",
   "id": "be754e7c",
   "metadata": {},
   "source": [
    "# question 5"
   ]
  },
  {
   "cell_type": "code",
   "execution_count": 12,
   "id": "5f57af76",
   "metadata": {},
   "outputs": [
    {
     "name": "stdout",
     "output_type": "stream",
     "text": [
      "Hello. My name is ahmed. I am from Cairo\n",
      "['Hello.', 'My', 'name', 'is', 'ahmed.', 'I', 'am', 'from', 'Cairo']\n",
      "['Hello. My name is ahmed. I am from Cairo']\n",
      "['Hello', ' My name is ahmed', ' I am from Cairo']\n",
      "['Hello', 'My name is ahmed', 'I am from Cairo']\n"
     ]
    }
   ],
   "source": [
    "s = \"Hello. My name is ahmed. I am from Cairo\"\n",
    "a = s.split()\n",
    "b = s.split(\",\")\n",
    "c = s.split(\".\")\t\n",
    "d = s.split(\". \")\n",
    "print(s)\n",
    "print(a)\n",
    "print(b)\n",
    "print(c)\n",
    "print(d)\n"
   ]
  },
  {
   "cell_type": "markdown",
   "id": "3daeb5c5",
   "metadata": {},
   "source": [
    "# question 6"
   ]
  },
  {
   "cell_type": "code",
   "execution_count": 14,
   "id": "5e212de0",
   "metadata": {},
   "outputs": [
    {
     "name": "stdout",
     "output_type": "stream",
     "text": [
      "Num\tLength\tWidth\tArea (rounded)\n",
      "1\t5.5\t4.1\t23\n",
      "2\t7.31\t5.3\t39\n",
      "3\t10.45\t4.9\t51\n"
     ]
    }
   ],
   "source": [
    "lengths = [5.50, 7.31, 10.45]\n",
    "widths = [4.1, 5.3, 4.9]\n",
    "\n",
    "print(\"Num\\tLength\\tWidth\\tArea (rounded)\")\n",
    "for i in range(len(lengths)):\n",
    "    area = round(lengths[i] * widths[i])\n",
    "    print(f\"{i+1}\\t{lengths[i]}\\t{widths[i]}\\t{area}\")"
   ]
  },
  {
   "cell_type": "markdown",
   "id": "2aaa93a1",
   "metadata": {},
   "source": [
    "# question 7"
   ]
  },
  {
   "cell_type": "markdown",
   "id": "c3bfdb9d",
   "metadata": {},
   "source": [
    "still tring to solve it "
   ]
  },
  {
   "cell_type": "code",
   "execution_count": null,
   "id": "4a777f8f",
   "metadata": {},
   "outputs": [],
   "source": []
  }
 ],
 "metadata": {
  "kernelspec": {
   "display_name": "Python 3 (ipykernel)",
   "language": "python",
   "name": "python3"
  },
  "language_info": {
   "codemirror_mode": {
    "name": "ipython",
    "version": 3
   },
   "file_extension": ".py",
   "mimetype": "text/x-python",
   "name": "python",
   "nbconvert_exporter": "python",
   "pygments_lexer": "ipython3",
   "version": "3.9.12"
  }
 },
 "nbformat": 4,
 "nbformat_minor": 5
}
