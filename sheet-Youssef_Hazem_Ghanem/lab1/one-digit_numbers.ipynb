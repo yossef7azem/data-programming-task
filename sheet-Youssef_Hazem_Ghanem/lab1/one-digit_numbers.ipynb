{
 "cells": [
  {
   "cell_type": "code",
   "execution_count": 1,
   "id": "740c306c",
   "metadata": {},
   "outputs": [
    {
     "name": "stdout",
     "output_type": "stream",
     "text": [
      "Enter 1 digit units : 5\n",
      "Enter 1 digit tens : 3\n",
      "Enter 1 digit hundreds : 2\n",
      "The number: 235\n"
     ]
    }
   ],
   "source": [
    "units = int(input(\"Enter 1 digit units : \"))\n",
    "tens = int(input(\"Enter 1 digit tens : \"))\n",
    "hundreds = int(input(\"Enter 1 digit hundreds : \"))\n",
    "\n",
    "\n",
    "if 0 <= units <= 9 and 0 <= tens <= 9 and 0 <= hundreds <= 9:\n",
    "    \n",
    "    number = hundreds * 100 + tens * 10 + units\n",
    "    print(f\"The number: {number}\")\n",
    "else:\n",
    "    print(\"Please enter valid one-digit numbers.\")"
   ]
  },
  {
   "cell_type": "code",
   "execution_count": 2,
   "id": "d6afb6fa",
   "metadata": {},
   "outputs": [
    {
     "data": {
      "text/plain": [
       "'C:\\\\Users\\\\Yossef Hazem\\\\sheet1'"
      ]
     },
     "execution_count": 2,
     "metadata": {},
     "output_type": "execute_result"
    }
   ],
   "source": [
    "pwd"
   ]
  },
  {
   "cell_type": "code",
   "execution_count": null,
   "id": "8d385205",
   "metadata": {},
   "outputs": [],
   "source": []
  }
 ],
 "metadata": {
  "kernelspec": {
   "display_name": "Python 3 (ipykernel)",
   "language": "python",
   "name": "python3"
  },
  "language_info": {
   "codemirror_mode": {
    "name": "ipython",
    "version": 3
   },
   "file_extension": ".py",
   "mimetype": "text/x-python",
   "name": "python",
   "nbconvert_exporter": "python",
   "pygments_lexer": "ipython3",
   "version": "3.10.13"
  }
 },
 "nbformat": 4,
 "nbformat_minor": 5
}
