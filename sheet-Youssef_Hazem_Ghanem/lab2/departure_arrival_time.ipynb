{
 "cells": [
  {
   "cell_type": "code",
   "execution_count": 9,
   "id": "ec07f219",
   "metadata": {},
   "outputs": [
    {
     "name": "stdout",
     "output_type": "stream",
     "text": [
      "Enter the departure time (hh:mm): 4:45\n",
      "Enter the arrival time (hh:mm): 5:00\n",
      "The trip time is: 0 hours and 15 minutes.\n"
     ]
    }
   ],
   "source": [
    "departure_time = input(\"Enter the departure time (hh:mm): \")\n",
    "arrival_time = input(\"Enter the arrival time (hh:mm): \")\n",
    "\n",
    "departure_hours, departure_minutes = departure_time.split(\":\")\n",
    "arrival_hours, arrival_minutes = arrival_time.split(\":\")\n",
    "departure_hours =int(departure_hours)\n",
    "departure_minutes=int(departure_minutes)\n",
    "arrival_hours=int(arrival_hours)\n",
    "arrival_minutes=int(arrival_minutes)\n",
    "trip_time_in_minutes = (arrival_hours - departure_hours) * 60 + (arrival_minutes - departure_minutes)\n",
    "\n",
    "trip_hours = trip_time_in_minutes // 60\n",
    "trip_minutes = trip_time_in_minutes % 60\n",
    "\n",
    "print(\"The trip time is:\", trip_hours, \"hours and\", trip_minutes, \"minutes.\")\n"
   ]
  },
  {
   "cell_type": "code",
   "execution_count": null,
   "id": "b6041287",
   "metadata": {},
   "outputs": [],
   "source": []
  },
  {
   "cell_type": "code",
   "execution_count": null,
   "id": "a338055e",
   "metadata": {},
   "outputs": [],
   "source": []
  }
 ],
 "metadata": {
  "kernelspec": {
   "display_name": "Python 3 (ipykernel)",
   "language": "python",
   "name": "python3"
  },
  "language_info": {
   "codemirror_mode": {
    "name": "ipython",
    "version": 3
   },
   "file_extension": ".py",
   "mimetype": "text/x-python",
   "name": "python",
   "nbconvert_exporter": "python",
   "pygments_lexer": "ipython3",
   "version": "3.10.13"
  }
 },
 "nbformat": 4,
 "nbformat_minor": 5
}
