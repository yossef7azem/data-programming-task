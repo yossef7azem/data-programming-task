{
 "cells": [
  {
   "cell_type": "code",
   "execution_count": 2,
   "id": "f805f20a",
   "metadata": {},
   "outputs": [
    {
     "name": "stdout",
     "output_type": "stream",
     "text": [
      "Enter the number of numbers to read: 5\n",
      "Enter a number: 1\n",
      "Enter a number: 2\n",
      "Enter a number: 3\n",
      "Enter a number: 4\n",
      "Enter a number: 5\n",
      "The sum of the odd elements is: 9\n",
      "The sum of the even elements is: 6\n"
     ]
    }
   ],
   "source": [
    "N = int(input(\"Enter the number of numbers to read: \"))\n",
    "numbers = []\n",
    "for i in range(N):\n",
    "    numbers.append(int(input(\"Enter a number: \")))\n",
    "\n",
    "\n",
    "sum_odd = 0\n",
    "sum_even = 0\n",
    "for number in numbers:\n",
    "    if number % 2 == 1:\n",
    "        sum_odd += number\n",
    "    else:\n",
    "        sum_even += number\n",
    "\n",
    "print(\"The sum of the odd elements is:\", sum_odd)\n",
    "print(\"The sum of the even elements is:\", sum_even)\n"
   ]
  },
  {
   "cell_type": "code",
   "execution_count": null,
   "id": "74990ee4",
   "metadata": {},
   "outputs": [],
   "source": []
  }
 ],
 "metadata": {
  "kernelspec": {
   "display_name": "Python 3 (ipykernel)",
   "language": "python",
   "name": "python3"
  },
  "language_info": {
   "codemirror_mode": {
    "name": "ipython",
    "version": 3
   },
   "file_extension": ".py",
   "mimetype": "text/x-python",
   "name": "python",
   "nbconvert_exporter": "python",
   "pygments_lexer": "ipython3",
   "version": "3.10.13"
  }
 },
 "nbformat": 4,
 "nbformat_minor": 5
}
