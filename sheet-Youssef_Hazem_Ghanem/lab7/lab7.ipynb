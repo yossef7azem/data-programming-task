{
 "cells": [
  {
   "cell_type": "markdown",
   "id": "f9de72ce",
   "metadata": {},
   "source": [
    "# 1)"
   ]
  },
  {
   "cell_type": "markdown",
   "id": "75d3f55f",
   "metadata": {},
   "source": [
    "A and B or A   is false"
   ]
  },
  {
   "cell_type": "markdown",
   "id": "00c276a6",
   "metadata": {},
   "source": [
    "# 2)"
   ]
  },
  {
   "cell_type": "markdown",
   "id": "f3c86546",
   "metadata": {},
   "source": [
    "True "
   ]
  },
  {
   "cell_type": "markdown",
   "id": "a23c5aac",
   "metadata": {},
   "source": [
    "# 3)"
   ]
  },
  {
   "cell_type": "markdown",
   "id": "7f87d512",
   "metadata": {},
   "source": [
    "The R value after the code execution will be 4"
   ]
  },
  {
   "cell_type": "markdown",
   "id": "f7cd9fe2",
   "metadata": {},
   "source": [
    "# 4)"
   ]
  },
  {
   "cell_type": "markdown",
   "id": "d285577c",
   "metadata": {},
   "source": [
    "The C value after the code execution will be 11"
   ]
  },
  {
   "cell_type": "markdown",
   "id": "8ca6adec",
   "metadata": {},
   "source": [
    "# 5)"
   ]
  },
  {
   "cell_type": "markdown",
   "id": "0d6e500b",
   "metadata": {},
   "source": [
    "while "
   ]
  },
  {
   "cell_type": "markdown",
   "id": "8a324723",
   "metadata": {},
   "source": [
    "# 6)"
   ]
  },
  {
   "cell_type": "markdown",
   "id": "50b2c059",
   "metadata": {},
   "source": [
    "for i in range (11,1 ,-1)"
   ]
  },
  {
   "cell_type": "markdown",
   "id": "efca15a2",
   "metadata": {},
   "source": [
    "# 7)"
   ]
  },
  {
   "cell_type": "markdown",
   "id": "9cf3f79a",
   "metadata": {},
   "source": [
    "for i in 'orange'"
   ]
  },
  {
   "cell_type": "markdown",
   "id": "0ca5a106",
   "metadata": {},
   "source": [
    "# 8)"
   ]
  },
  {
   "cell_type": "code",
   "execution_count": 3,
   "id": "564c0101",
   "metadata": {},
   "outputs": [
    {
     "name": "stdout",
     "output_type": "stream",
     "text": [
      "1\n",
      "2\n",
      "3\n"
     ]
    }
   ],
   "source": [
    "i = 1 \n",
    "for x in range( 1,4) :\n",
    "     i = i * x \n",
    "     print('%d'   %x) \n"
   ]
  },
  {
   "cell_type": "markdown",
   "id": "02ff419c",
   "metadata": {},
   "source": [
    "# 9)"
   ]
  },
  {
   "cell_type": "code",
   "execution_count": 4,
   "id": "ed471aa6",
   "metadata": {},
   "outputs": [
    {
     "name": "stdout",
     "output_type": "stream",
     "text": [
      "Enter a number N: 5\n",
      "1\t\n",
      "2\t4\t\n",
      "3\t6\t9\t\n",
      "4\t8\t12\t16\t\n",
      "5\t10\t15\t20\t25\t\n"
     ]
    }
   ],
   "source": [
    "N = int(input(\"Enter a number N: \"))\n",
    "\n",
    "for i in range(1, N + 1):\n",
    "    for j in range(1, i + 1):\n",
    "        print(i * j, end=\"\\t\")\n",
    "    print()\n"
   ]
  },
  {
   "cell_type": "markdown",
   "id": "27c16f56",
   "metadata": {},
   "source": [
    "# 10)"
   ]
  },
  {
   "cell_type": "code",
   "execution_count": null,
   "id": "686b929e",
   "metadata": {},
   "outputs": [
    {
     "name": "stdout",
     "output_type": "stream",
     "text": [
      "How many available items in Meat? 10\n",
      "What are the prices of the available items in Meat? 10\n",
      "How many available items in Seafood? 10\n",
      "What are the prices of the available items in Seafood? 10\n",
      "How many available items in Milk? 10\n",
      "What are the prices of the available items in Milk? 10\n",
      "How many available items in Bread? 10\n",
      "What are the prices of the available items in Bread? 10\n",
      "How many available items in Oil? 10\n",
      "What are the prices of the available items in Oil? 10\n",
      "How many you want from Meat? 10\n",
      "How many you want from Seafood? 10\n",
      "How many you want from Milk? 10\n",
      "How many you want from Bread? 10\n",
      "How many you want from Oil? 10\n",
      "Please enter promo if you have: 123456\n",
      "Dear prospective customer, the total is: 470.0 pounds\n"
     ]
    }
   ],
   "source": [
    "departments = [\"Meat\", \"Seafood\", \"Milk\", \"Bread\", \"Oil\"]\n",
    "available_items = []\n",
    "prices = []\n",
    "promo_code = \"123456\"\n",
    "cart = {department: 0 for department in departments}\n",
    "report = {department: 0 for department in departments}\n",
    "total_sold = 0\n",
    "\n",
    "# Input available items and prices\n",
    "for department in departments:\n",
    "    available = int(input(f\"How many available items in {department}? \"))\n",
    "    available_items.append(available)\n",
    "    price = float(input(f\"What are the prices of the available items in {department}? \"))\n",
    "    prices.append(price)\n",
    "\n",
    "while True:\n",
    "    customer_cart = {department: 0 for department in departments}\n",
    "    for i, department in enumerate(departments):\n",
    "        quantity = int(input(f\"How many you want from {department}? \"))\n",
    "        if quantity > available_items[i]:\n",
    "            print(f\"We are sorry, there's no available {department}.\")\n",
    "            continue\n",
    "        customer_cart[department] = quantity\n",
    "        available_items[i] -= quantity\n",
    "        total_sold += quantity\n",
    "\n",
    "    promo = input(\"Please enter promo if you have: \")\n",
    "    if promo == promo_code:\n",
    "        customer_cart[\"Milk\"] = 0.7 * customer_cart[\"Milk\"]  # Apply 30% discount on Milk\n",
    "\n",
    "    total_price = sum(prices[i] * customer_cart[departments[i]] for i in range(len(departments)))\n",
    "    print(f\"Dear prospective customer, the total is: {total_price:.1f} pounds\")\n",
    "\n",
    "    store_open = input(\"Is the store still open? (yes/no) \")\n",
    "    if store_open.lower() != \"yes\":\n",
    "        break\n",
    "\n",
    "    for department in customer_cart:\n",
    "        cart[department] += customer_cart[department]\n",
    "\n",
    "# Calculate department ratios\n",
    "for department in report:\n",
    "    report[department] = cart[department] / total_sold * 100\n",
    "\n",
    "# Print ratios in ascending order\n",
    "sorted_report = dict(sorted(report.items(), key=lambda item: item[1]))\n",
    "\n",
    "print(\"We sold today:\")\n",
    "for department, ratio in sorted_report.items():\n",
    "    print(f\"{ratio:.2f}% {department}\")\n"
   ]
  },
  {
   "cell_type": "code",
   "execution_count": null,
   "id": "45a26a79",
   "metadata": {},
   "outputs": [],
   "source": []
  }
 ],
 "metadata": {
  "kernelspec": {
   "display_name": "Python 3 (ipykernel)",
   "language": "python",
   "name": "python3"
  },
  "language_info": {
   "codemirror_mode": {
    "name": "ipython",
    "version": 3
   },
   "file_extension": ".py",
   "mimetype": "text/x-python",
   "name": "python",
   "nbconvert_exporter": "python",
   "pygments_lexer": "ipython3",
   "version": "3.9.12"
  }
 },
 "nbformat": 4,
 "nbformat_minor": 5
}
