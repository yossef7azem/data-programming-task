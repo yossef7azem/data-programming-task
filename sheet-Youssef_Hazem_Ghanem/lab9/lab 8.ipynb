{
 "cells": [
  {
   "cell_type": "markdown",
   "id": "4aacee09",
   "metadata": {},
   "source": [
    "# Question 1"
   ]
  },
  {
   "cell_type": "code",
   "execution_count": 7,
   "id": "ecc01bb6",
   "metadata": {},
   "outputs": [],
   "source": [
    "X=[1,2,3,4,5,6,7]"
   ]
  },
  {
   "cell_type": "code",
   "execution_count": 8,
   "id": "3d792aa3",
   "metadata": {},
   "outputs": [
    {
     "data": {
      "text/plain": [
       "True"
      ]
     },
     "execution_count": 8,
     "metadata": {},
     "output_type": "execute_result"
    }
   ],
   "source": [
    "#In (a)\n",
    "sum(X)  ## calculates the sum of all elements in the list X.\n",
    "#In (b) \n",
    "sum(X[1::2]) ##sums up the elements in the list X at odd indices.\n",
    "#In (c) \n",
    "sum(1 for d in X if d > 0) ##counts the number of positive elements in the list X.\n",
    "#In (d)\n",
    "any(X[i] > 0 for i in range(len(X))) ## checks if there is at least one positive element in the list X."
   ]
  },
  {
   "cell_type": "markdown",
   "id": "23863369",
   "metadata": {},
   "source": [
    "# Question 2"
   ]
  },
  {
   "cell_type": "markdown",
   "id": "1cc5bf54",
   "metadata": {},
   "source": [
    "To fix the code, you should decrement N in each recursive call so that the recursion eventually reaches the base case (N <= 0)."
   ]
  },
  {
   "cell_type": "code",
   "execution_count": 9,
   "id": "bb22f582",
   "metadata": {},
   "outputs": [
    {
     "name": "stdout",
     "output_type": "stream",
     "text": [
      "10\n"
     ]
    }
   ],
   "source": [
    "def sumVal(N):\n",
    "    if N <= 0:\n",
    "        return 0\n",
    "    return N + sumVal(N - 1)\n",
    "\n",
    "print(sumVal(4))\n"
   ]
  },
  {
   "cell_type": "markdown",
   "id": "50544167",
   "metadata": {},
   "source": [
    "# Question 3 "
   ]
  },
  {
   "cell_type": "markdown",
   "id": "fe4874a1",
   "metadata": {},
   "source": [
    "The code defines a recursive function f(x, y)"
   ]
  },
  {
   "cell_type": "markdown",
   "id": "daec8b1f",
   "metadata": {},
   "source": [
    "f(60, 48):\n",
    "\n",
    "First call: f(60, 48) calls f(48, 60 % 48) (which is f(48, 12)).\n",
    "\n",
    "Second call: f(48, 12) calls f(12, 48 % 12) (which is f(12, 0)).\n",
    "\n",
    "Third call: f(12, 0) returns 12 (since y == 0).\n",
    "\n",
    "The final result is 12."
   ]
  },
  {
   "cell_type": "markdown",
   "id": "be6ebfca",
   "metadata": {},
   "source": [
    "And also f(33,21) in the same way "
   ]
  },
  {
   "cell_type": "markdown",
   "id": "e9dcaaea",
   "metadata": {},
   "source": [
    "# Quesion 4"
   ]
  },
  {
   "cell_type": "code",
   "execution_count": 10,
   "id": "0058dd66",
   "metadata": {},
   "outputs": [
    {
     "name": "stdout",
     "output_type": "stream",
     "text": [
      "10\n",
      "4\n",
      "3\n",
      "2\n"
     ]
    }
   ],
   "source": [
    "def showListReverse(a):\n",
    "    if not a:  # if list is empty, then nothing to show, just return\n",
    "        return\n",
    "    showListReverse(a[1:])\n",
    "    print(a[0])\n",
    "\n",
    "showListReverse([2, 3, 4, 10])"
   ]
  },
  {
   "cell_type": "markdown",
   "id": "611cbc9c",
   "metadata": {},
   "source": [
    "To print the list in reverse order"
   ]
  },
  {
   "cell_type": "markdown",
   "id": "a2a8e30a",
   "metadata": {},
   "source": [
    "# Quesion 5"
   ]
  },
  {
   "cell_type": "code",
   "execution_count": 11,
   "id": "f5ab70c5",
   "metadata": {},
   "outputs": [
    {
     "name": "stdout",
     "output_type": "stream",
     "text": [
      "55\n"
     ]
    }
   ],
   "source": [
    "def sum_of_series(N):\n",
    "    if N == 1:\n",
    "        return 1\n",
    "    else:\n",
    "        return N**2 + sum_of_series(N-1) # we use recursion in this \n",
    "\n",
    "result = sum_of_series(5)\n",
    "print(result)  \n"
   ]
  },
  {
   "cell_type": "markdown",
   "id": "838d0044",
   "metadata": {},
   "source": [
    "# Quesion 6"
   ]
  },
  {
   "cell_type": "code",
   "execution_count": 12,
   "id": "3618ba56",
   "metadata": {},
   "outputs": [
    {
     "name": "stdout",
     "output_type": "stream",
     "text": [
      "17\n"
     ]
    }
   ],
   "source": [
    "def sum_of_list(L):\n",
    "    if not L: # if empty list\n",
    "        return 0\n",
    "    else:\n",
    "        return L[0] + sum_of_list(L[1:])\n",
    "\n",
    "\n",
    "result = sum_of_list([2, 3, 5, 7])\n",
    "print(result)  \n"
   ]
  },
  {
   "cell_type": "markdown",
   "id": "6a39aadc",
   "metadata": {},
   "source": [
    "# Quesion 7"
   ]
  },
  {
   "cell_type": "code",
   "execution_count": 13,
   "id": "346d8f62",
   "metadata": {},
   "outputs": [
    {
     "name": "stdout",
     "output_type": "stream",
     "text": [
      "4\n"
     ]
    }
   ],
   "source": [
    "def count_items(L):\n",
    "    if not L:\n",
    "        return 0\n",
    "    else:\n",
    "        return 1 + count_items(L[1:])\n",
    "\n",
    "\n",
    "result = count_items([2, 3, 5, 7])\n",
    "print(result) \n"
   ]
  },
  {
   "cell_type": "markdown",
   "id": "93a512c1",
   "metadata": {},
   "source": [
    "# Quesion 8"
   ]
  },
  {
   "cell_type": "code",
   "execution_count": 10,
   "id": "5f4db3a7",
   "metadata": {},
   "outputs": [],
   "source": [
    "def get_max_length():\n",
    "    while True:\n",
    "        try:\n",
    "            max_length = int(input(\"Enter the maximum length in feet: \"))\n",
    "            if max_length <= 0:\n",
    "                print(\"Please enter a valid positive integer.\")\n",
    "            else:\n",
    "                return max_length\n",
    "        except ValueError:\n",
    "            print(\"Please enter a valid positive integer.\")\n",
    "\n",
    "def print_conversion_chart(max_length):\n",
    "    print(\"Feet       \", \"Meters\")\n",
    "    print(\"-\" * 20)\n",
    "    for feet in range(1, max_length + 1):\n",
    "        meters = feet * 0.3048\n",
    "        print(feet,\"        \", meters)\n"
   ]
  },
  {
   "cell_type": "code",
   "execution_count": 11,
   "id": "70d77605",
   "metadata": {},
   "outputs": [
    {
     "name": "stdout",
     "output_type": "stream",
     "text": [
      "Enter the maximum length in feet: 30\n",
      "Feet        Meters\n",
      "--------------------\n",
      "1          0.3048\n",
      "2          0.6096\n",
      "3          0.9144000000000001\n",
      "4          1.2192\n",
      "5          1.524\n",
      "6          1.8288000000000002\n",
      "7          2.1336\n",
      "8          2.4384\n",
      "9          2.7432000000000003\n",
      "10          3.048\n",
      "11          3.3528000000000002\n",
      "12          3.6576000000000004\n",
      "13          3.9624\n",
      "14          4.2672\n",
      "15          4.572\n",
      "16          4.8768\n",
      "17          5.1816\n",
      "18          5.486400000000001\n",
      "19          5.7912\n",
      "20          6.096\n",
      "21          6.4008\n",
      "22          6.7056000000000004\n",
      "23          7.010400000000001\n",
      "24          7.315200000000001\n",
      "25          7.62\n",
      "26          7.9248\n",
      "27          8.2296\n",
      "28          8.5344\n",
      "29          8.8392\n",
      "30          9.144\n"
     ]
    }
   ],
   "source": [
    "max_length = get_max_length()\n",
    "print_conversion_chart(max_length)\n"
   ]
  },
  {
   "cell_type": "markdown",
   "id": "5bdfa270",
   "metadata": {},
   "source": [
    "# َQuestion 9 "
   ]
  },
  {
   "cell_type": "code",
   "execution_count": null,
   "id": "1faf48db",
   "metadata": {},
   "outputs": [],
   "source": []
  },
  {
   "cell_type": "markdown",
   "id": "a2f56d3d",
   "metadata": {},
   "source": [
    "# َQuesion 10"
   ]
  }
 ],
 "metadata": {
  "kernelspec": {
   "display_name": "Python 3 (ipykernel)",
   "language": "python",
   "name": "python3"
  },
  "language_info": {
   "codemirror_mode": {
    "name": "ipython",
    "version": 3
   },
   "file_extension": ".py",
   "mimetype": "text/x-python",
   "name": "python",
   "nbconvert_exporter": "python",
   "pygments_lexer": "ipython3",
   "version": "3.9.12"
  }
 },
 "nbformat": 4,
 "nbformat_minor": 5
}
