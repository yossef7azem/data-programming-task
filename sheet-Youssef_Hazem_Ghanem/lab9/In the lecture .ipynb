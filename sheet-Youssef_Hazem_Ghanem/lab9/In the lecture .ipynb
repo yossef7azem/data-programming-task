{
 "cells": [
  {
   "cell_type": "markdown",
   "id": "90920a23",
   "metadata": {},
   "source": [
    "Define factorial function "
   ]
  },
  {
   "cell_type": "code",
   "execution_count": 1,
   "id": "e9568722",
   "metadata": {},
   "outputs": [],
   "source": [
    "def factorial(n) : \n",
    "    if n<0 :\n",
    "        raise ValueError(\"YOU GOT AN ERROR \")\n",
    "    if n==0 :\n",
    "        return 1 \n",
    "    else : \n",
    "        return n * factorial(n-1)"
   ]
  },
  {
   "cell_type": "markdown",
   "id": "527f4adf",
   "metadata": {},
   "source": [
    "Define permutation function "
   ]
  },
  {
   "cell_type": "code",
   "execution_count": 2,
   "id": "60c59149",
   "metadata": {},
   "outputs": [],
   "source": [
    "def permutation(n,r) : \n",
    "    return factorial(n)/factorial(n-r)"
   ]
  },
  {
   "cell_type": "markdown",
   "id": "8632597e",
   "metadata": {},
   "source": [
    "Define computation function "
   ]
  },
  {
   "cell_type": "code",
   "execution_count": 3,
   "id": "793b4c0d",
   "metadata": {},
   "outputs": [],
   "source": [
    "def computation(n,r):\n",
    "    return permutation(n,r)/factorial(r)"
   ]
  },
  {
   "cell_type": "code",
   "execution_count": 4,
   "id": "26185c6b",
   "metadata": {},
   "outputs": [
    {
     "name": "stdout",
     "output_type": "stream",
     "text": [
      "ENTER YOUR N :  5\n",
      "ENTER YOUR R :  4\n",
      "permuation =  120.0\n",
      "computation =  5.0\n"
     ]
    }
   ],
   "source": [
    "n = int(input(\"ENTER YOUR N :  \"))\n",
    "r = int(input(\"ENTER YOUR R :  \"))\n",
    "print ('permuation = ' , permutation(n,r))\n",
    "print ('computation = ' ,computation(n,r))"
   ]
  },
  {
   "cell_type": "code",
   "execution_count": null,
   "id": "9f078fe7",
   "metadata": {},
   "outputs": [],
   "source": []
  }
 ],
 "metadata": {
  "kernelspec": {
   "display_name": "Python 3 (ipykernel)",
   "language": "python",
   "name": "python3"
  },
  "language_info": {
   "codemirror_mode": {
    "name": "ipython",
    "version": 3
   },
   "file_extension": ".py",
   "mimetype": "text/x-python",
   "name": "python",
   "nbconvert_exporter": "python",
   "pygments_lexer": "ipython3",
   "version": "3.9.12"
  }
 },
 "nbformat": 4,
 "nbformat_minor": 5
}
