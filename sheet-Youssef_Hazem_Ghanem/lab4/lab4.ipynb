{
 "cells": [
  {
   "cell_type": "markdown",
   "id": "3cb68677",
   "metadata": {},
   "source": [
    "# 1.\tNavy had a project with her colleagues, she waited until all team members attend and see if anyone brought the battery otherwise she would bring it for them to start working. "
   ]
  },
  {
   "cell_type": "code",
   "execution_count": 2,
   "id": "c3393ab0",
   "metadata": {},
   "outputs": [
    {
     "name": "stdout",
     "output_type": "stream",
     "text": [
      "Enter your listarduino capacitors breadboard leds battery\n",
      "What did team members bring?\n",
      "I don't need to bring the battery\n"
     ]
    }
   ],
   "source": [
    "team_items = []\n",
    "team_items=input(\"Enter your list\").split()\n",
    "if 'battery' in team_items:\n",
    "    print(\"What did team members bring?\\nI don't need to bring the battery\")\n",
    "else:\n",
    "    print(\"What did team members bring?\\nI will need to bring the battery\")"
   ]
  },
  {
   "cell_type": "markdown",
   "id": "98483e72",
   "metadata": {},
   "source": [
    "# 3.\tEngy went to a restaurant and ordered a soup and a main dish. "
   ]
  },
  {
   "cell_type": "code",
   "execution_count": 3,
   "id": "c96b30c7",
   "metadata": {},
   "outputs": [
    {
     "name": "stdout",
     "output_type": "stream",
     "text": [
      "soup : mushroom\n",
      "meal : mashed potatoes\n",
      "She loves vegetables\n"
     ]
    }
   ],
   "source": [
    "soup =input (\"soup : \")  # Engy's soup choice\n",
    "meal = input (\"meal : \") # Engy's main dish choice\n",
    "\n",
    "vegetable_soup = ['vegetables', 'mushroom']\n",
    "vegetable_meal = ['mashed potatoes']\n",
    "\n",
    "# Check if Engy's choices contain vegetables or not\n",
    "if any(item in vegetable_soup for item in [soup]) and any(item in vegetable_meal for item in [meal]):\n",
    "    print(\"She loves vegetables\")\n",
    "elif not any(item in vegetable_soup for item in [soup]) and not any(item in vegetable_meal for item in [meal]):\n",
    "    print(\"She hates vegetables\")\n",
    "else:\n",
    "    print(\"She neither loves nor hates vegetables\")\n"
   ]
  },
  {
   "cell_type": "markdown",
   "id": "d2746a00",
   "metadata": {},
   "source": [
    "# problem 5"
   ]
  },
  {
   "cell_type": "code",
   "execution_count": 5,
   "id": "65d7e5cb",
   "metadata": {},
   "outputs": [
    {
     "name": "stdout",
     "output_type": "stream",
     "text": [
      "Enter weight: 600\n",
      "Enter weight unit (1 for mg, 2 for kg, 3 for ton): 2\n",
      "600000.0\n",
      "Do you want to make another conversion? (Yes/No): no\n"
     ]
    }
   ],
   "source": [
    "def convert_to_grams(weight, unit):\n",
    "    if weight < 0:\n",
    "        print(\"Invalid weight\")\n",
    "        return None\n",
    "    if unit == 1:\n",
    "        return weight\n",
    "    elif unit == 2:\n",
    "        return weight * 1000  # 1 kg = 1000 grams\n",
    "    elif unit == 3:\n",
    "        return weight * 1000000  # 1 ton = 1,000,000 grams\n",
    "    else:\n",
    "        print(\"Invalid unit\")\n",
    "        return None\n",
    "\n",
    "attempts = 0\n",
    "while attempts < 5:\n",
    "    weight = float(input(\"Enter weight: \"))\n",
    "    unit = int(input(\"Enter weight unit (1 for mg, 2 for kg, 3 for ton): \"))\n",
    "\n",
    "    result = convert_to_grams(weight, unit)\n",
    "    if result is not None:\n",
    "        print(result)\n",
    "        if input(\"Do you want to make another conversion? (Yes/No): \").lower() != \"yes\":\n",
    "            break\n",
    "    attempts += 1\n"
   ]
  },
  {
   "cell_type": "markdown",
   "id": "8d503bcc",
   "metadata": {},
   "source": [
    "# problem 7"
   ]
  },
  {
   "cell_type": "code",
   "execution_count": 3,
   "id": "8de53a08",
   "metadata": {},
   "outputs": [
    {
     "name": "stdout",
     "output_type": "stream",
     "text": [
      "Enter Friends list separated by comma :  mark,william,majed,ropert,nader\n",
      "Enter presents list separated by comma :  football,basketball shoes\n",
      "Oh william, Thank you friend :)\n"
     ]
    }
   ],
   "source": [
    "friends = input(\"Enter Friends list separated by comma :  \").split(',')\n",
    "presents = input('Enter presents list separated by comma :  ').split(',')\n",
    "what_is_in_his_mind = 'basketball shoes'  \n",
    "\n",
    "\n",
    "if what_is_in_his_mind in presents:\n",
    "    friend_index = presents.index(what_is_in_his_mind)\n",
    "    friend_who_brought_present = friends[friend_index]\n",
    "    print(f\"Oh {friend_who_brought_present}, Thank you friend :)\")\n",
    "else:\n",
    "    print(\"Opps, Sorry none.\")\n"
   ]
  },
  {
   "cell_type": "code",
   "execution_count": null,
   "id": "f3418bf9",
   "metadata": {},
   "outputs": [],
   "source": []
  }
 ],
 "metadata": {
  "kernelspec": {
   "display_name": "Python 3 (ipykernel)",
   "language": "python",
   "name": "python3"
  },
  "language_info": {
   "codemirror_mode": {
    "name": "ipython",
    "version": 3
   },
   "file_extension": ".py",
   "mimetype": "text/x-python",
   "name": "python",
   "nbconvert_exporter": "python",
   "pygments_lexer": "ipython3",
   "version": "3.9.12"
  }
 },
 "nbformat": 4,
 "nbformat_minor": 5
}
