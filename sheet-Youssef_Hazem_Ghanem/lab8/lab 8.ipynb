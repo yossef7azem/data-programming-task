{
 "cells": [
  {
   "cell_type": "markdown",
   "id": "1ab7879f",
   "metadata": {},
   "source": [
    "# Quesion 1"
   ]
  },
  {
   "cell_type": "markdown",
   "id": "19ec0fb0",
   "metadata": {},
   "source": [
    " return SUM"
   ]
  },
  {
   "cell_type": "markdown",
   "id": "3b5e8418",
   "metadata": {},
   "source": [
    "# Quesion 2"
   ]
  },
  {
   "cell_type": "markdown",
   "id": "5c83b519",
   "metadata": {},
   "source": [
    "15"
   ]
  },
  {
   "cell_type": "markdown",
   "id": "30545c9b",
   "metadata": {},
   "source": [
    "# Quesion  3"
   ]
  },
  {
   "cell_type": "code",
   "execution_count": 1,
   "id": "999c63e3",
   "metadata": {},
   "outputs": [
    {
     "name": "stdout",
     "output_type": "stream",
     "text": [
      "enter fahernhiet degrees : 100\n",
      "celesuis :  37.77777777777778\n",
      "kelvin :  310.92777777777775\n"
     ]
    },
    {
     "data": {
      "text/plain": [
       "0"
      ]
     },
     "execution_count": 1,
     "metadata": {},
     "output_type": "execute_result"
    }
   ],
   "source": [
    "def convert_temperature(fahrenheit):\n",
    "    celsius = (fahrenheit - 32) * 5/9\n",
    "    kelvin = celsius + 273.15\n",
    "    print('celesuis : ',celsius)\n",
    "    print('kelvin : ',kelvin)\n",
    "    return 0\n",
    "\n",
    "fahernheit = float(input('enter fahernhiet degrees : '))\n",
    "\n",
    "convert_temperature(fahernheit)"
   ]
  },
  {
   "cell_type": "markdown",
   "id": "eba66ea4",
   "metadata": {},
   "source": [
    "# Quesion 4"
   ]
  },
  {
   "cell_type": "code",
   "execution_count": 2,
   "id": "aecc7057",
   "metadata": {},
   "outputs": [
    {
     "name": "stdout",
     "output_type": "stream",
     "text": [
      "enter x cord = 10\n",
      "enter y cord = 20\n",
      "r= 22.360679774997898\n",
      "theta =  1.1071487177940904\n"
     ]
    },
    {
     "data": {
      "text/plain": [
       "0"
      ]
     },
     "execution_count": 2,
     "metadata": {},
     "output_type": "execute_result"
    }
   ],
   "source": [
    "import math\n",
    "def cod(x, y):\n",
    "    r = math.sqrt(x**2 + y**2)\n",
    "    theta = math.atan2(y, x)\n",
    "    print('r=',r)\n",
    "    print('theta = ',theta)\n",
    "    return 0\n",
    "\n",
    "\n",
    "\n",
    "x = int(input('enter x cord = '))\n",
    "y = int(input('enter y cord = '))\n",
    "cod(x,y)"
   ]
  },
  {
   "cell_type": "markdown",
   "id": "98c133c1",
   "metadata": {},
   "source": [
    "# Quesion 5"
   ]
  },
  {
   "cell_type": "code",
   "execution_count": 6,
   "id": "3ee07035",
   "metadata": {},
   "outputs": [
    {
     "name": "stdout",
     "output_type": "stream",
     "text": [
      "enter values of list : 10 90 100 50 60\n",
      "Input: [10, 90, 100, 50, 60]\n",
      "Output: ['F', 'A', 'A', 'F', 'D']\n"
     ]
    }
   ],
   "source": [
    "def scoreToGrade(score):\n",
    "    if score >= 90:\n",
    "        return 'A'\n",
    "    elif score >= 80:\n",
    "        return 'B'\n",
    "    elif score >= 70:\n",
    "        return 'C'\n",
    "    elif score >= 60:\n",
    "        return 'D'\n",
    "    else:\n",
    "        return 'F'\n",
    "\n",
    "def computeGrades(scores):\n",
    "    grades = [scoreToGrade(score) for score in scores]\n",
    "    return grades\n",
    "\n",
    "   \n",
    "A = input('enter values of list : ')   \n",
    "A = list(map(int, A.split()))\n",
    "   \n",
    "G = computeGrades(A) \n",
    "print(f\"Input: {A}\")\n",
    "print(f\"Output: {G}\")"
   ]
  },
  {
   "cell_type": "markdown",
   "id": "b2d5a729",
   "metadata": {},
   "source": [
    "# Quesion 6"
   ]
  },
  {
   "cell_type": "code",
   "execution_count": 7,
   "id": "6daf8ef9",
   "metadata": {},
   "outputs": [
    {
     "name": "stdout",
     "output_type": "stream",
     "text": [
      "Enter an angle in degrees: 80\n",
      "The angle in radians is: 1.3962634015954636\n"
     ]
    }
   ],
   "source": [
    "import math\n",
    "def getInput():\n",
    "    angle_degrees = float(input(\"Enter an angle in degrees: \"))\n",
    "    return angle_degrees\n",
    "\n",
    "def convertDeg(angle_degrees):\n",
    "    angle_radians = math.radians(angle_degrees)\n",
    "    return angle_radians\n",
    "\n",
    "def showValue(result):\n",
    "    print(f\"The angle in radians is: {result}\")\n",
    "\n",
    "d = getInput()\n",
    "r = convertDeg(d)\n",
    "showValue(r)"
   ]
  },
  {
   "cell_type": "markdown",
   "id": "a3ac5ed0",
   "metadata": {},
   "source": [
    "# Quesion 7"
   ]
  },
  {
   "cell_type": "code",
   "execution_count": 8,
   "id": "77407097",
   "metadata": {},
   "outputs": [
    {
     "name": "stdout",
     "output_type": "stream",
     "text": [
      "Insert your string: hiii\n",
      "The reversed string is: 'iiih'\n"
     ]
    }
   ],
   "source": [
    "def reverse_string(input_string):\n",
    "    return input_string[::-1]\n",
    "\n",
    "user_input = input(\"Insert your string: \")\n",
    "\n",
    "reversed_string = reverse_string(user_input)\n",
    "\n",
    "print(f\"The reversed string is: '{reversed_string}'\")\n"
   ]
  }
 ],
 "metadata": {
  "kernelspec": {
   "display_name": "Python 3 (ipykernel)",
   "language": "python",
   "name": "python3"
  },
  "language_info": {
   "codemirror_mode": {
    "name": "ipython",
    "version": 3
   },
   "file_extension": ".py",
   "mimetype": "text/x-python",
   "name": "python",
   "nbconvert_exporter": "python",
   "pygments_lexer": "ipython3",
   "version": "3.9.12"
  }
 },
 "nbformat": 4,
 "nbformat_minor": 5
}
