{
 "cells": [
  {
   "cell_type": "code",
   "execution_count": 1,
   "id": "afc91459",
   "metadata": {},
   "outputs": [
    {
     "name": "stdout",
     "output_type": "stream",
     "text": [
      "Enter your full name: Youssef Hazem\n",
      "Your first name is: Youssef\n",
      "Your last name is: Hazem\n"
     ]
    }
   ],
   "source": [
    "\n",
    "full_name = input(\"Enter your full name: \")\n",
    "\n",
    "first_name, last_name = full_name.split(\" \")\n",
    "\n",
    "print(\"Your first name is:\", first_name)\n",
    "print(\"Your last name is:\", last_name)\n"
   ]
  },
  {
   "cell_type": "code",
   "execution_count": null,
   "id": "40cfc57a",
   "metadata": {},
   "outputs": [],
   "source": []
  }
 ],
 "metadata": {
  "kernelspec": {
   "display_name": "Python 3 (ipykernel)",
   "language": "python",
   "name": "python3"
  },
  "language_info": {
   "codemirror_mode": {
    "name": "ipython",
    "version": 3
   },
   "file_extension": ".py",
   "mimetype": "text/x-python",
   "name": "python",
   "nbconvert_exporter": "python",
   "pygments_lexer": "ipython3",
   "version": "3.10.13"
  }
 },
 "nbformat": 4,
 "nbformat_minor": 5
}
