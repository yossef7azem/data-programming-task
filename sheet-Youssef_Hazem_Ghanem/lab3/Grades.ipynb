{
 "cells": [
  {
   "cell_type": "markdown",
   "id": "05ebc288",
   "metadata": {},
   "source": [
    "Check each element if it is a valid grade (valid range is from 0 to 100). For each grade, the program displays either Valid or Invalid. Count number of invalid grades."
   ]
  },
  {
   "cell_type": "code",
   "execution_count": 4,
   "id": "eec32e7f",
   "metadata": {},
   "outputs": [
    {
     "name": "stdout",
     "output_type": "stream",
     "text": [
      "Enter a list of grades (separated by spaces): 50 90 110 30 h\n",
      "Valid\n",
      "Valid\n",
      "Invalid\n",
      "Valid\n",
      "Invalid\n",
      "Number of invalid grades: 2\n"
     ]
    }
   ],
   "source": [
    "#a.\tCheck each element if it is a valid grade \n",
    "grades = input(\"Enter a list of grades (separated by spaces): \").split()\n",
    "\n",
    "invalid_grade_count = 0\n",
    "\n",
    "for grade in grades:\n",
    "    if not grade.isdigit() or int(grade) < 0 or int(grade) > 100:\n",
    "        print(\"Invalid\")\n",
    "        invalid_grade_count += 1\n",
    "    else:\n",
    "        print(\"Valid\")\n",
    "\n",
    "# Display the invalid grade count\n",
    "print(\"Number of invalid grades:\", invalid_grade_count)\n"
   ]
  },
  {
   "cell_type": "markdown",
   "id": "9da6af67",
   "metadata": {},
   "source": [
    " Check each element if it is a valid grade (valid range is from 0 to 100). Produce a corresponding list (same size as the grades list) that has 1 or 0 in the same grade position; 1 if the grade is valid and 0 if it is invalid."
   ]
  },
  {
   "cell_type": "code",
   "execution_count": 5,
   "id": "a1e60f51",
   "metadata": {},
   "outputs": [
    {
     "name": "stdout",
     "output_type": "stream",
     "text": [
      "Enter a list of grades (separated by spaces): 50 90 110 30 h\n",
      "[1, 1, 0, 1, 0]\n"
     ]
    }
   ],
   "source": [
    "grades = input(\"Enter a list of grades (separated by spaces): \").split()\n",
    "\n",
    "validity_list = []\n",
    "\n",
    "for grade in grades:\n",
    "    if grade.isdigit() and int(grade) >= 0 and int(grade) <= 100:\n",
    "        validity_list.append(1)\n",
    "    else:\n",
    "        validity_list.append(0)\n",
    "\n",
    "print(validity_list)\n"
   ]
  },
  {
   "cell_type": "markdown",
   "id": "4249209b",
   "metadata": {},
   "source": [
    "Calculate and display the average grade."
   ]
  },
  {
   "cell_type": "code",
   "execution_count": 7,
   "id": "979bceff",
   "metadata": {},
   "outputs": [
    {
     "name": "stdout",
     "output_type": "stream",
     "text": [
      "Enter a list of grades (separated by spaces): 50 70 80 90\n",
      "Average grade: 72.5\n"
     ]
    }
   ],
   "source": [
    "grades = input(\"Enter a list of grades (separated by spaces): \").split()\n",
    "\n",
    "sum_of_grades = 0\n",
    "for grade in grades:\n",
    "    sum_of_grades += int(grade)\n",
    "\n",
    "average_grade = sum_of_grades / len(grades)\n",
    "\n",
    "print(\"Average grade:\", average_grade)\n"
   ]
  },
  {
   "cell_type": "markdown",
   "id": "476ad474",
   "metadata": {},
   "source": [
    "Find and display the highest and lowest grades and specify their locations."
   ]
  },
  {
   "cell_type": "code",
   "execution_count": 8,
   "id": "ab715420",
   "metadata": {},
   "outputs": [
    {
     "name": "stdout",
     "output_type": "stream",
     "text": [
      "Enter a list of grades (separated by spaces): 50 90 95 \n",
      "Highest grade: 95 at location 2\n",
      "Lowest grade: 50 at location 0\n"
     ]
    }
   ],
   "source": [
    "grades = input(\"Enter a list of grades (separated by spaces): \").split()\n",
    "\n",
    "highest_grade = max(grades)\n",
    "lowest_grade = min(grades)\n",
    "\n",
    "highest_grade_location = grades.index(highest_grade)\n",
    "lowest_grade_location = grades.index(lowest_grade)\n",
    "\n",
    "print(\"Highest grade:\", highest_grade, \"at location\", highest_grade_location)\n",
    "print(\"Lowest grade:\", lowest_grade, \"at location\", lowest_grade_location)\n"
   ]
  },
  {
   "cell_type": "markdown",
   "id": "ca284c68",
   "metadata": {},
   "source": [
    " Allocate and display students having grades greater than 85%, and display their count."
   ]
  },
  {
   "cell_type": "code",
   "execution_count": 9,
   "id": "9245e990",
   "metadata": {},
   "outputs": [
    {
     "name": "stdout",
     "output_type": "stream",
     "text": [
      "Enter a list of grades (separated by spaces): 100 20 50 90 80 \n",
      "Students with grades greater than 85%: ['100', '90']\n",
      "Count of students with grades greater than 85%: 2\n"
     ]
    }
   ],
   "source": [
    "grades = input(\"Enter a list of grades (separated by spaces): \").split()\n",
    "\n",
    "students_with_good_grades = []\n",
    "\n",
    "for grade in grades:\n",
    "    if int(grade) > 85:\n",
    "        students_with_good_grades.append(grade)\n",
    "\n",
    "print(\"Students with grades greater than 85%:\", students_with_good_grades)\n",
    "\n",
    "print(\"Count of students with grades greater than 85%:\", len(students_with_good_grades))\n"
   ]
  },
  {
   "cell_type": "markdown",
   "id": "fca1c2f4",
   "metadata": {},
   "source": [
    "Allocate and display students having grades greater than average, and display their count."
   ]
  },
  {
   "cell_type": "code",
   "execution_count": 12,
   "id": "096281a8",
   "metadata": {},
   "outputs": [
    {
     "name": "stdout",
     "output_type": "stream",
     "text": [
      "Enter a list of grades (separated by spaces): 40 90 90 29 8 0\n",
      "Avarage grade  42.833333333333336\n",
      "Students with grades greater than average: [90, 90]\n",
      "Count of students with grades greater than average: 2\n"
     ]
    }
   ],
   "source": [
    "grades = input(\"Enter a list of grades (separated by spaces): \").split()\n",
    "grades = [int(i) for i in grades ]\n",
    "average_grade = sum(grades) / len(grades)\n",
    "print (\"Avarage grade \" , average_grade)\n",
    "students_with_good_grades = []\n",
    "\n",
    "for grade in grades:\n",
    "    if int(grade) > average_grade:\n",
    "        students_with_good_grades.append(grade)\n",
    "\n",
    "        \n",
    "print(\"Students with grades greater than average:\", students_with_good_grades)\n",
    "print(\"Count of students with grades greater than average:\", len(students_with_good_grades))\n"
   ]
  },
  {
   "cell_type": "code",
   "execution_count": null,
   "id": "4e442a0d",
   "metadata": {},
   "outputs": [],
   "source": []
  }
 ],
 "metadata": {
  "kernelspec": {
   "display_name": "Python 3 (ipykernel)",
   "language": "python",
   "name": "python3"
  },
  "language_info": {
   "codemirror_mode": {
    "name": "ipython",
    "version": 3
   },
   "file_extension": ".py",
   "mimetype": "text/x-python",
   "name": "python",
   "nbconvert_exporter": "python",
   "pygments_lexer": "ipython3",
   "version": "3.10.13"
  }
 },
 "nbformat": 4,
 "nbformat_minor": 5
}
