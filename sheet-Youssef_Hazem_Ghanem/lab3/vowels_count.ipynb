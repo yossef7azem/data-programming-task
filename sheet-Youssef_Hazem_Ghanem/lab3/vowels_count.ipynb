{
 "cells": [
  {
   "cell_type": "code",
   "execution_count": 1,
   "id": "d2a57e06",
   "metadata": {},
   "outputs": [
    {
     "name": "stdout",
     "output_type": "stream",
     "text": [
      "Enter a statement: youssef hazem ghanem\n",
      "The number of vowels in the statement is: 7\n"
     ]
    }
   ],
   "source": [
    "statement = input(\"Enter a statement: \")\n",
    "\n",
    "vowel_count = 0\n",
    "\n",
    "for character in statement:\n",
    "    if character in [\"a\", \"e\", \"i\", \"o\", \"u\"]:\n",
    "        vowel_count += 1\n",
    "\n",
    "if vowel_count > 0:\n",
    "    print(\"The number of vowels in the statement is:\", vowel_count)\n",
    "else:\n",
    "    print(\"No vowels found.\")\n"
   ]
  },
  {
   "cell_type": "code",
   "execution_count": null,
   "id": "c99b8678",
   "metadata": {},
   "outputs": [],
   "source": []
  }
 ],
 "metadata": {
  "kernelspec": {
   "display_name": "Python 3 (ipykernel)",
   "language": "python",
   "name": "python3"
  },
  "language_info": {
   "codemirror_mode": {
    "name": "ipython",
    "version": 3
   },
   "file_extension": ".py",
   "mimetype": "text/x-python",
   "name": "python",
   "nbconvert_exporter": "python",
   "pygments_lexer": "ipython3",
   "version": "3.10.13"
  }
 },
 "nbformat": 4,
 "nbformat_minor": 5
}
